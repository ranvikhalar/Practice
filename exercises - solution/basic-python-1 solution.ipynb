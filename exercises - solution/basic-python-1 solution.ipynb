{
 "cells": [
  {
   "cell_type": "code",
   "execution_count": 1,
   "metadata": {},
   "outputs": [],
   "source": [
    " data = [['A1', 28], ['A2', 32], ['A3', 1], ['A4', 0],\n",
    "\t        ['A5', 10], ['A6', 22], ['A7', 30], ['A8', 19],\n",
    "\t\t\t['B1', 145], ['B2', 27], ['B3', 36], ['B4', 25],\n",
    "\t\t\t['B5', 9], ['B6', 38], ['B7', 21], ['B8', 12],\n",
    "\t\t\t['C1', 122], ['C2', 87], ['C3', 36], ['C4', 3],\n",
    "\t\t\t['D1', 0], ['D2', 5], ['D3', 55], ['D4', 62],\n",
    "\t\t\t['D5', 98], ['D6', 32]]"
   ]
  },
  {
   "cell_type": "code",
   "execution_count": 24,
   "metadata": {},
   "outputs": [
    {
     "name": "stdout",
     "output_type": "stream",
     "text": [
      "Total birds across all sites is 955\n",
      "[28, 32, 1, 0, 10, 22, 30, 19, 145, 27, 36, 25, 9, 38, 21, 12, 122, 87, 36, 3, 0, 5, 55, 62, 98, 32]\n",
      "955\n",
      "36.73076923076923\n",
      "[122, 87, 36, 3]\n",
      "248\n"
     ]
    }
   ],
   "source": [
    "import numpy as np\n",
    "#Ques 1:How many sites are there?\n",
    "no_of_sites = len(data)\n",
    "no_of_sites\n",
    "\n",
    "#Ques 2: How many birds were counted at the 7th site?\n",
    "birds_at_7th_site = data[6][1]\n",
    "birds_at_7th_site\n",
    "\n",
    "#Ques 3: How many birds were counted at the last site?\n",
    "birds_at_last_site = data[len(data)-1][1]\n",
    "birds_at_last_site\n",
    "\n",
    "#Ques 4: What is the total number of birds counted across all sites?\n",
    "total_birds = 0\n",
    "for i in range(len(data)): \n",
    "    birds_count = data[i][1]\n",
    "    total_birds += birds_count\n",
    "    \n",
    "print(f\"Total birds across all sites is {total_birds}\")\n",
    "\n",
    "#OR \n",
    "\n",
    "birds = []\n",
    "for i in range(len(data)):\n",
    "    birds.append(data[i][1]) \n",
    "print(birds)\n",
    "\n",
    "print(sum(birds))\n",
    "\n",
    "#Ques 5: What is the average number of birds seen on a site?\n",
    "print(np.mean(birds))\n",
    "\n",
    "#Ques 6: What is the total number of birds counted on sites with codes beginning with C? (don't just identify this sites by eye, in the real world there could be hundreds or thousands of sites)\n",
    "birds_C = []\n",
    "for i in range(len(data)):\n",
    "    if data[i][0][0] == 'C':\n",
    "        birds_C.append(data[i][1])\n",
    "print(birds_C)\n",
    "print(sum(birds_C))\n"
   ]
  }
 ],
 "metadata": {
  "kernelspec": {
   "display_name": "dsi_participant",
   "language": "python",
   "name": "python3"
  },
  "language_info": {
   "codemirror_mode": {
    "name": "ipython",
    "version": 3
   },
   "file_extension": ".py",
   "mimetype": "text/x-python",
   "name": "python",
   "nbconvert_exporter": "python",
   "pygments_lexer": "ipython3",
   "version": "3.9.15"
  }
 },
 "nbformat": 4,
 "nbformat_minor": 2
}
